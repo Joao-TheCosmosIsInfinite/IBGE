{
 "cells": [
  {
   "cell_type": "markdown",
   "metadata": {},
   "source": [
    "# Base Dados IBGE"
   ]
  },
  {
   "cell_type": "markdown",
   "metadata": {},
   "source": [
    "Os códigos discriminados nesse notebooke dizem repeito a um projeto envolvendo a base de dados do **IBGE(Instituto Brasileiro de Geografia e Estatística)**"
   ]
  },
  {
   "cell_type": "markdown",
   "metadata": {},
   "source": [
    "## Conteúdo de Apoio\n",
    "<b>Livro:</b> Python para Analise de Dados - Tratamento de dados com Pandas, Numpy e IPython\n",
    "<br><b>Autor:</b> Wes McKinney</br>\n",
    "<br><b>Editora:</b> O'Reilly</br>\n",
    "\n",
    "<br></br><b>Livro:</b> Python Escreva seus primeiros programas\n",
    "<br><b>Autor:</b> Felipe Cruz</br>\n",
    "<br><b>Editora:</b> Casa do Código</br>\n",
    "\n"
   ]
  },
  {
   "cell_type": "markdown",
   "metadata": {},
   "source": [
    "## Informações\n",
    "\n",
    "<b>Fonte:</b> https://servicodados.ibge.gov.br/api/docs"
   ]
  },
  {
   "cell_type": "markdown",
   "metadata": {},
   "source": [
    "## Importações"
   ]
  },
  {
   "cell_type": "code",
   "execution_count": 53,
   "metadata": {},
   "outputs": [],
   "source": [
    "import pandas as pd\n",
    "import json\n",
    "import requests\n",
    "import os"
   ]
  },
  {
   "cell_type": "markdown",
   "metadata": {},
   "source": [
    "## Funções de Auxilio"
   ]
  },
  {
   "cell_type": "code",
   "execution_count": 2,
   "metadata": {},
   "outputs": [],
   "source": [
    "def fn_busca_lista_dados_IBGE(url):\n",
    "    \"\"\"\n",
    "    Função\n",
    "        Essa função é reponsável por trazer uma lista de informações do site do IBGE, onde passando a URL da API,\n",
    "        ela retornara as informações desejadas\n",
    "        \n",
    "        Args:\n",
    "            String: Campo destinado a url do IBGE, mais especificamente a API que será utilizada\n",
    "        Return:\n",
    "            Int = codigo do status da requisição, isto é se foi bem sucedida ou não, nesse caso \n",
    "                200 para bem sucedida.\n",
    "            List/ None = representa a lista com os dicionarios de informações fornecidos pelo IBGE\n",
    "    \"\"\"\n",
    "    response = requests.request(\"GET\", url)\n",
    "    json_response = json.loads(response.content)\n",
    "    if response.status_code == 200:\n",
    "        return response.status_code, json_response\n",
    "    return response.status_code, None"
   ]
  },
  {
   "cell_type": "code",
   "execution_count": 50,
   "metadata": {},
   "outputs": [],
   "source": [
    "def fn_criar_pasta(caminho):\n",
    "    \"\"\"\n",
    "    Função\n",
    "        Essa função é reponsável por criar uma pasta conforme caminho passado\n",
    "        \n",
    "        Args:\n",
    "            String: Campo destinado ao caminho onde essa pasta será criada\n",
    "        Return:\n",
    "            Int = 0 - Falha, 1 - Sucesso\n",
    "            String = Mensagem\n",
    "    \"\"\"\n",
    "    resultado = 0\n",
    "    try:\n",
    "        os.makedirs(pasta_arquivos_csv)\n",
    "        mensagem = \"O diretório {} foi criado com sucesso.\".format(caminho)\n",
    "        resultado = 1\n",
    "    except FileExistsError:\n",
    "        mensagem = \"O diretorio {} já existe\".format(caminho)\n",
    "    except OSError:\n",
    "        mensagem = \"Ocorreu um erro na criacao do diretorio: {}\".format(caminho)\n",
    "    \n",
    "    return resultado, mensagem"
   ]
  },
  {
   "cell_type": "markdown",
   "metadata": {},
   "source": [
    "## Estados(UF) da Federação\n",
    "\n",
    "É possivel obtêlos atravé do site: https://servicodados.ibge.gov.br/api/docs/localidades?versao=1#api-UFs-estadosGet onde esta a API utilizada para trazer os estados"
   ]
  },
  {
   "cell_type": "markdown",
   "metadata": {},
   "source": [
    "### Preparando as listas de dados para os DataFrames"
   ]
  },
  {
   "cell_type": "code",
   "execution_count": 3,
   "metadata": {},
   "outputs": [],
   "source": [
    "url = \"https://servicodados.ibge.gov.br/api/v1/localidades/estados\"\n",
    "http_retorno, json_retorno = fn_busca_lista_dados_IBGE(url)"
   ]
  },
  {
   "cell_type": "code",
   "execution_count": 4,
   "metadata": {},
   "outputs": [],
   "source": [
    "# Realizar uma cópia da lista trazida, armazenando os estados na lista 'estados'\n",
    "if len(json_retorno) > 0:\n",
    "    estados = json_retorno.copy() "
   ]
  },
  {
   "cell_type": "markdown",
   "metadata": {},
   "source": [
    "<b> OBS. : </b>\n",
    "Foi identificado que a API de Estados/ UFs, trazidas pelo IBGE,  nos devolve uma lista de arquivos JSON, que no Python é interpretado como um dicionário, sendo assim, cada estado será um dicionario.\n",
    "\n",
    "Um outro ponto que nos é válido ressaltar é que cada dicionario é acompanhado por um outro dicionario, com informações referentes ao estado, como Região do Pais, sendo assim essa informação sera aramzenada em uma outra lista e depois ambas serão vinculadas para que seja gerado um arquivo .CSV mais congruente."
   ]
  },
  {
   "cell_type": "code",
   "execution_count": 5,
   "metadata": {},
   "outputs": [],
   "source": [
    "# Lista com as informações das regiões dos estados\n",
    "regioes_por_estados = [es[\"regiao\"] for es in estados]\n",
    "\n",
    "# Criar uma nova chave nos dicionarios dos estados que faça referencia a região deles\n",
    "for es in estados:\n",
    "    es.update( {\"id_regiao\":es['regiao']['id']})    "
   ]
  },
  {
   "cell_type": "markdown",
   "metadata": {},
   "source": [
    "### Criando os Dataframes"
   ]
  },
  {
   "cell_type": "code",
   "execution_count": 6,
   "metadata": {},
   "outputs": [],
   "source": [
    "# DataFrame das Regiões\n",
    "df_regioes_por_estados = pd.DataFrame(regioes_por_estados)\n",
    "df_regioes_por_estados.rename(columns = {'id' : 'id_regiao',\n",
    "                                         'nome': 'nome_regiao',\n",
    "                                         'sigla': 'sigla_regiao'},\n",
    "                             inplace = True)"
   ]
  },
  {
   "cell_type": "code",
   "execution_count": 7,
   "metadata": {},
   "outputs": [],
   "source": [
    "# DataFrame Auxiliar com os Estados\n",
    "df_estados_aux = pd.DataFrame(estados, \n",
    "                          columns = ['id', 'sigla', 'nome', 'id_regiao'])\n",
    "df_estados_aux.rename(columns = {'id' : 'id_estado',\n",
    "                                 'nome': 'nome_estado',\n",
    "                                 'sigla': 'sigla_estado'},\n",
    "                             inplace = True)"
   ]
  },
  {
   "cell_type": "code",
   "execution_count": 8,
   "metadata": {},
   "outputs": [],
   "source": [
    "# Gerando o DataFrame com as informações dos Estados\n",
    "df_estados = pd.concat([df_regioes_por_estados, df_estados_aux], axis = 1)"
   ]
  },
  {
   "cell_type": "code",
   "execution_count": 9,
   "metadata": {},
   "outputs": [
    {
     "data": {
      "text/html": [
       "<div>\n",
       "<style scoped>\n",
       "    .dataframe tbody tr th:only-of-type {\n",
       "        vertical-align: middle;\n",
       "    }\n",
       "\n",
       "    .dataframe tbody tr th {\n",
       "        vertical-align: top;\n",
       "    }\n",
       "\n",
       "    .dataframe thead th {\n",
       "        text-align: right;\n",
       "    }\n",
       "</style>\n",
       "<table border=\"1\" class=\"dataframe\">\n",
       "  <thead>\n",
       "    <tr style=\"text-align: right;\">\n",
       "      <th></th>\n",
       "      <th>id_regiao</th>\n",
       "      <th>nome_regiao</th>\n",
       "      <th>sigla_regiao</th>\n",
       "      <th>id_estado</th>\n",
       "      <th>sigla_estado</th>\n",
       "      <th>nome_estado</th>\n",
       "      <th>id_regiao</th>\n",
       "    </tr>\n",
       "  </thead>\n",
       "  <tbody>\n",
       "    <tr>\n",
       "      <th>0</th>\n",
       "      <td>1</td>\n",
       "      <td>Norte</td>\n",
       "      <td>N</td>\n",
       "      <td>11</td>\n",
       "      <td>RO</td>\n",
       "      <td>Rondônia</td>\n",
       "      <td>1</td>\n",
       "    </tr>\n",
       "    <tr>\n",
       "      <th>1</th>\n",
       "      <td>1</td>\n",
       "      <td>Norte</td>\n",
       "      <td>N</td>\n",
       "      <td>12</td>\n",
       "      <td>AC</td>\n",
       "      <td>Acre</td>\n",
       "      <td>1</td>\n",
       "    </tr>\n",
       "    <tr>\n",
       "      <th>2</th>\n",
       "      <td>1</td>\n",
       "      <td>Norte</td>\n",
       "      <td>N</td>\n",
       "      <td>13</td>\n",
       "      <td>AM</td>\n",
       "      <td>Amazonas</td>\n",
       "      <td>1</td>\n",
       "    </tr>\n",
       "  </tbody>\n",
       "</table>\n",
       "</div>"
      ],
      "text/plain": [
       "   id_regiao nome_regiao sigla_regiao  id_estado sigla_estado nome_estado  \\\n",
       "0          1       Norte            N         11           RO    Rondônia   \n",
       "1          1       Norte            N         12           AC        Acre   \n",
       "2          1       Norte            N         13           AM    Amazonas   \n",
       "\n",
       "   id_regiao  \n",
       "0          1  \n",
       "1          1  \n",
       "2          1  "
      ]
     },
     "execution_count": 9,
     "metadata": {},
     "output_type": "execute_result"
    }
   ],
   "source": [
    "df_estados.head(3)"
   ]
  },
  {
   "cell_type": "markdown",
   "metadata": {},
   "source": [
    "## Municipios Brasileiros"
   ]
  },
  {
   "cell_type": "markdown",
   "metadata": {},
   "source": [
    "É possivel obtêlos atravé do site: https://servicodados.ibge.gov.br/api/docs/localidades?versao=1#api-Municipios-estadosUFMunicipiosGet onde esta a API utilizada para trazer os estados"
   ]
  },
  {
   "cell_type": "markdown",
   "metadata": {},
   "source": [
    "### Preparando as listas de dados"
   ]
  },
  {
   "cell_type": "code",
   "execution_count": 10,
   "metadata": {},
   "outputs": [],
   "source": [
    "url = \"https://servicodados.ibge.gov.br/api/v1/localidades/municipios\"\n",
    "http_retorno, json_retorno = fn_busca_lista_dados_IBGE(url)"
   ]
  },
  {
   "cell_type": "code",
   "execution_count": 11,
   "metadata": {},
   "outputs": [],
   "source": [
    "# Realizar uma cópia da lista trazida, armazenando os estados na lista 'estados'\n",
    "if len(json_retorno) > 0:\n",
    "    municipios = json_retorno.copy() "
   ]
  },
  {
   "cell_type": "code",
   "execution_count": 12,
   "metadata": {},
   "outputs": [],
   "source": [
    "# Extrair as chaves correspondentes a microregiao, mesoregiao, UF, regiao\n",
    "ls_microregiao = [mi['microrregiao'] for mi in municipios]\n",
    "ls_mesoregiao = [me['mesorregiao'] for me in ls_microregiao]\n",
    "\n",
    "# Criar uma nova chave nos dicionarios das mesoregioes que façam referencia aos estados\n",
    "for ms in ls_mesoregiao:\n",
    "    ms.update( {\"id_estado\":ms['UF']['id']})     \n",
    "    \n",
    "# Criar uma nova chave nos dicionarios das microregioes que façam referencia as mesoregioes\n",
    "for me in ls_microregiao:\n",
    "    me.update( {\"id_mesoregiao\":me['mesorregiao']['id']})   \n",
    "    \n",
    "#\n",
    "for mu in municipios:\n",
    "    mu.update( {\"id_microrregiao\":mu['microrregiao']['id']})   \n"
   ]
  },
  {
   "cell_type": "markdown",
   "metadata": {},
   "source": [
    "### Criando os DataFrames"
   ]
  },
  {
   "cell_type": "code",
   "execution_count": 13,
   "metadata": {},
   "outputs": [],
   "source": [
    "# DataFrame das MesoRegiões\n",
    "df_mesoregioes = pd.DataFrame(ls_mesoregiao, \n",
    "                              columns = ['id', 'nome', 'id_estado'])\n",
    "df_mesoregioes.rename(columns = {'id' : 'id_mesoregiao',\n",
    "                                 'nome': 'nome_mesoregiao'},\n",
    "                                 inplace = True)"
   ]
  },
  {
   "cell_type": "code",
   "execution_count": 14,
   "metadata": {},
   "outputs": [
    {
     "data": {
      "text/html": [
       "<div>\n",
       "<style scoped>\n",
       "    .dataframe tbody tr th:only-of-type {\n",
       "        vertical-align: middle;\n",
       "    }\n",
       "\n",
       "    .dataframe tbody tr th {\n",
       "        vertical-align: top;\n",
       "    }\n",
       "\n",
       "    .dataframe thead th {\n",
       "        text-align: right;\n",
       "    }\n",
       "</style>\n",
       "<table border=\"1\" class=\"dataframe\">\n",
       "  <thead>\n",
       "    <tr style=\"text-align: right;\">\n",
       "      <th></th>\n",
       "      <th>id_mesoregiao</th>\n",
       "      <th>nome_mesoregiao</th>\n",
       "      <th>id_estado</th>\n",
       "    </tr>\n",
       "  </thead>\n",
       "  <tbody>\n",
       "    <tr>\n",
       "      <th>0</th>\n",
       "      <td>1102</td>\n",
       "      <td>Leste Rondoniense</td>\n",
       "      <td>11</td>\n",
       "    </tr>\n",
       "    <tr>\n",
       "      <th>1</th>\n",
       "      <td>1102</td>\n",
       "      <td>Leste Rondoniense</td>\n",
       "      <td>11</td>\n",
       "    </tr>\n",
       "    <tr>\n",
       "      <th>2</th>\n",
       "      <td>1102</td>\n",
       "      <td>Leste Rondoniense</td>\n",
       "      <td>11</td>\n",
       "    </tr>\n",
       "    <tr>\n",
       "      <th>3</th>\n",
       "      <td>1102</td>\n",
       "      <td>Leste Rondoniense</td>\n",
       "      <td>11</td>\n",
       "    </tr>\n",
       "    <tr>\n",
       "      <th>4</th>\n",
       "      <td>1102</td>\n",
       "      <td>Leste Rondoniense</td>\n",
       "      <td>11</td>\n",
       "    </tr>\n",
       "  </tbody>\n",
       "</table>\n",
       "</div>"
      ],
      "text/plain": [
       "   id_mesoregiao    nome_mesoregiao  id_estado\n",
       "0           1102  Leste Rondoniense         11\n",
       "1           1102  Leste Rondoniense         11\n",
       "2           1102  Leste Rondoniense         11\n",
       "3           1102  Leste Rondoniense         11\n",
       "4           1102  Leste Rondoniense         11"
      ]
     },
     "execution_count": 14,
     "metadata": {},
     "output_type": "execute_result"
    }
   ],
   "source": [
    "df_mesoregioes.head()"
   ]
  },
  {
   "cell_type": "code",
   "execution_count": 15,
   "metadata": {},
   "outputs": [],
   "source": [
    "# DataFrame das MicroRegioes\n",
    "df_microregioes = pd.DataFrame(ls_microregiao,\n",
    "                               columns = ['id','nome','id_mesoregiao'])\n",
    "df_microregioes.rename(columns = {'id' : 'id_microregiao',\n",
    "                                 'nome': 'nome_microregiao'},\n",
    "                                 inplace = True)"
   ]
  },
  {
   "cell_type": "code",
   "execution_count": 16,
   "metadata": {},
   "outputs": [],
   "source": [
    "# DataFrame Auxiliar com os municipios\n",
    "df_municipios_aux = pd.DataFrame(municipios, \n",
    "                          columns = ['id', 'nome', 'id_microrregiao'])\n",
    "df_municipios_aux.rename(columns = { 'id' : 'id_municipio',\n",
    "                                     'nome': 'nome_municipio',\n",
    "                                     'sigla': 'sigla_municipio'},\n",
    "                             inplace = True)"
   ]
  },
  {
   "cell_type": "code",
   "execution_count": 17,
   "metadata": {},
   "outputs": [],
   "source": [
    "# Gerando o DataFrame com as informações dos Municipios\n",
    "df_municipios = pd.concat([df_mesoregioes, df_microregioes, df_municipios_aux], \n",
    "                       axis = 1)"
   ]
  },
  {
   "cell_type": "code",
   "execution_count": 18,
   "metadata": {},
   "outputs": [
    {
     "data": {
      "text/html": [
       "<div>\n",
       "<style scoped>\n",
       "    .dataframe tbody tr th:only-of-type {\n",
       "        vertical-align: middle;\n",
       "    }\n",
       "\n",
       "    .dataframe tbody tr th {\n",
       "        vertical-align: top;\n",
       "    }\n",
       "\n",
       "    .dataframe thead th {\n",
       "        text-align: right;\n",
       "    }\n",
       "</style>\n",
       "<table border=\"1\" class=\"dataframe\">\n",
       "  <thead>\n",
       "    <tr style=\"text-align: right;\">\n",
       "      <th></th>\n",
       "      <th>id_mesoregiao</th>\n",
       "      <th>nome_mesoregiao</th>\n",
       "      <th>id_estado</th>\n",
       "      <th>id_microregiao</th>\n",
       "      <th>nome_microregiao</th>\n",
       "      <th>id_mesoregiao</th>\n",
       "      <th>id_municipio</th>\n",
       "      <th>nome_municipio</th>\n",
       "      <th>id_microrregiao</th>\n",
       "    </tr>\n",
       "  </thead>\n",
       "  <tbody>\n",
       "    <tr>\n",
       "      <th>0</th>\n",
       "      <td>1102</td>\n",
       "      <td>Leste Rondoniense</td>\n",
       "      <td>11</td>\n",
       "      <td>11006</td>\n",
       "      <td>Cacoal</td>\n",
       "      <td>1102</td>\n",
       "      <td>1100015</td>\n",
       "      <td>Alta Floresta D'Oeste</td>\n",
       "      <td>11006</td>\n",
       "    </tr>\n",
       "    <tr>\n",
       "      <th>1</th>\n",
       "      <td>1102</td>\n",
       "      <td>Leste Rondoniense</td>\n",
       "      <td>11</td>\n",
       "      <td>11003</td>\n",
       "      <td>Ariquemes</td>\n",
       "      <td>1102</td>\n",
       "      <td>1100023</td>\n",
       "      <td>Ariquemes</td>\n",
       "      <td>11003</td>\n",
       "    </tr>\n",
       "    <tr>\n",
       "      <th>2</th>\n",
       "      <td>1102</td>\n",
       "      <td>Leste Rondoniense</td>\n",
       "      <td>11</td>\n",
       "      <td>11008</td>\n",
       "      <td>Colorado do Oeste</td>\n",
       "      <td>1102</td>\n",
       "      <td>1100031</td>\n",
       "      <td>Cabixi</td>\n",
       "      <td>11008</td>\n",
       "    </tr>\n",
       "  </tbody>\n",
       "</table>\n",
       "</div>"
      ],
      "text/plain": [
       "   id_mesoregiao    nome_mesoregiao  id_estado  id_microregiao  \\\n",
       "0           1102  Leste Rondoniense         11           11006   \n",
       "1           1102  Leste Rondoniense         11           11003   \n",
       "2           1102  Leste Rondoniense         11           11008   \n",
       "\n",
       "    nome_microregiao  id_mesoregiao  id_municipio         nome_municipio  \\\n",
       "0             Cacoal           1102       1100015  Alta Floresta D'Oeste   \n",
       "1          Ariquemes           1102       1100023              Ariquemes   \n",
       "2  Colorado do Oeste           1102       1100031                 Cabixi   \n",
       "\n",
       "   id_microrregiao  \n",
       "0            11006  \n",
       "1            11003  \n",
       "2            11008  "
      ]
     },
     "execution_count": 18,
     "metadata": {},
     "output_type": "execute_result"
    }
   ],
   "source": [
    "df_municipios.head(3)"
   ]
  },
  {
   "cell_type": "markdown",
   "metadata": {},
   "source": [
    "## Gerando os Arquivos .CSVs"
   ]
  },
  {
   "cell_type": "markdown",
   "metadata": {},
   "source": [
    "Uma vez feito o processo de preparação dos dados e de montagem dos dataframes, será criado os arquivos .CSVs para que possam ser utilizados nas mais variadas aplicações envolvendo informações relativas a federação."
   ]
  },
  {
   "cell_type": "markdown",
   "metadata": {},
   "source": [
    "### Criar a pasta onde ficara os arquivos "
   ]
  },
  {
   "cell_type": "code",
   "execution_count": 43,
   "metadata": {},
   "outputs": [],
   "source": [
    "# Captar o Diretório atual\n",
    "path = os.getcwd()"
   ]
  },
  {
   "cell_type": "code",
   "execution_count": 52,
   "metadata": {},
   "outputs": [
    {
     "data": {
      "text/plain": [
       "'O diretório /home/joao-santos/Projetos/Python/Aplicacoes/IBGE/data foi criado com sucesso.'"
      ]
     },
     "execution_count": 52,
     "metadata": {},
     "output_type": "execute_result"
    }
   ],
   "source": [
    "# Criar uma pasta no diretorio atual, para conter os arquivos .CSVs\n",
    "pasta_arquivos_csv = path + \"/data\"    \n",
    "retorno, mensagem = fn_criar_pasta(pasta_arquivos_csv)\n",
    "mensagem"
   ]
  },
  {
   "cell_type": "markdown",
   "metadata": {},
   "source": [
    "#### Exportando Estados"
   ]
  },
  {
   "cell_type": "code",
   "execution_count": 58,
   "metadata": {},
   "outputs": [],
   "source": [
    "estados_csv = pasta_arquivos_csv + \"/estados.csv\"\n",
    "export_est_csv = df_estados.to_csv (estados_csv, index = None, header=True) "
   ]
  },
  {
   "cell_type": "markdown",
   "metadata": {},
   "source": [
    "#### Exportando Municipios"
   ]
  },
  {
   "cell_type": "code",
   "execution_count": 59,
   "metadata": {},
   "outputs": [],
   "source": [
    "municipios_csv = pasta_arquivos_csv + \"/municipios.csv\"\n",
    "export_muni_csv = df_municipios.to_csv (municipios_csv, index = None, header=True) "
   ]
  },
  {
   "cell_type": "code",
   "execution_count": null,
   "metadata": {},
   "outputs": [],
   "source": []
  }
 ],
 "metadata": {
  "kernelspec": {
   "display_name": "Python 3",
   "language": "python",
   "name": "python3"
  },
  "language_info": {
   "codemirror_mode": {
    "name": "ipython",
    "version": 3
   },
   "file_extension": ".py",
   "mimetype": "text/x-python",
   "name": "python",
   "nbconvert_exporter": "python",
   "pygments_lexer": "ipython3",
   "version": "3.7.3"
  }
 },
 "nbformat": 4,
 "nbformat_minor": 2
}
